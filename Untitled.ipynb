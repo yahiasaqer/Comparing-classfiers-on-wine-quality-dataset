{
 "cells": [
  {
   "cell_type": "code",
   "execution_count": 82,
   "id": "bda5df85",
   "metadata": {},
   "outputs": [
    {
     "data": {
      "text/html": [
       "<div>\n",
       "<style scoped>\n",
       "    .dataframe tbody tr th:only-of-type {\n",
       "        vertical-align: middle;\n",
       "    }\n",
       "\n",
       "    .dataframe tbody tr th {\n",
       "        vertical-align: top;\n",
       "    }\n",
       "\n",
       "    .dataframe thead th {\n",
       "        text-align: right;\n",
       "    }\n",
       "</style>\n",
       "<table border=\"1\" class=\"dataframe\">\n",
       "  <thead>\n",
       "    <tr style=\"text-align: right;\">\n",
       "      <th></th>\n",
       "      <th>color</th>\n",
       "      <th>Fixed Acidity</th>\n",
       "      <th>Volitile Acidity</th>\n",
       "      <th>Critic Acid</th>\n",
       "      <th>Residual Sugar</th>\n",
       "      <th>Chlorides</th>\n",
       "      <th>Free Sulfur Dioxide</th>\n",
       "      <th>Total Sulfur Dioxide</th>\n",
       "      <th>Density</th>\n",
       "      <th>PH</th>\n",
       "      <th>Sulphates</th>\n",
       "      <th>Alcohol</th>\n",
       "      <th>Quality</th>\n",
       "    </tr>\n",
       "  </thead>\n",
       "  <tbody>\n",
       "    <tr>\n",
       "      <th>0</th>\n",
       "      <td>red</td>\n",
       "      <td>7.4</td>\n",
       "      <td>0.70</td>\n",
       "      <td>0.00</td>\n",
       "      <td>1.9</td>\n",
       "      <td>0.076</td>\n",
       "      <td>11.0</td>\n",
       "      <td>34.0</td>\n",
       "      <td>0.9978</td>\n",
       "      <td>3.51</td>\n",
       "      <td>0.56</td>\n",
       "      <td>9.4</td>\n",
       "      <td>5.0</td>\n",
       "    </tr>\n",
       "    <tr>\n",
       "      <th>1</th>\n",
       "      <td>red</td>\n",
       "      <td>7.8</td>\n",
       "      <td>0.88</td>\n",
       "      <td>0.00</td>\n",
       "      <td>2.6</td>\n",
       "      <td>0.098</td>\n",
       "      <td>25.0</td>\n",
       "      <td>67.0</td>\n",
       "      <td>0.9968</td>\n",
       "      <td>3.20</td>\n",
       "      <td>0.68</td>\n",
       "      <td>9.8</td>\n",
       "      <td>5.0</td>\n",
       "    </tr>\n",
       "    <tr>\n",
       "      <th>2</th>\n",
       "      <td>red</td>\n",
       "      <td>7.8</td>\n",
       "      <td>0.76</td>\n",
       "      <td>0.04</td>\n",
       "      <td>2.3</td>\n",
       "      <td>0.092</td>\n",
       "      <td>15.0</td>\n",
       "      <td>54.0</td>\n",
       "      <td>0.9970</td>\n",
       "      <td>3.26</td>\n",
       "      <td>0.65</td>\n",
       "      <td>9.8</td>\n",
       "      <td>5.0</td>\n",
       "    </tr>\n",
       "    <tr>\n",
       "      <th>3</th>\n",
       "      <td>red</td>\n",
       "      <td>11.2</td>\n",
       "      <td>0.28</td>\n",
       "      <td>0.56</td>\n",
       "      <td>1.9</td>\n",
       "      <td>0.075</td>\n",
       "      <td>17.0</td>\n",
       "      <td>60.0</td>\n",
       "      <td>0.9980</td>\n",
       "      <td>3.16</td>\n",
       "      <td>0.58</td>\n",
       "      <td>9.8</td>\n",
       "      <td>6.0</td>\n",
       "    </tr>\n",
       "    <tr>\n",
       "      <th>4</th>\n",
       "      <td>red</td>\n",
       "      <td>7.4</td>\n",
       "      <td>0.70</td>\n",
       "      <td>0.00</td>\n",
       "      <td>1.9</td>\n",
       "      <td>0.076</td>\n",
       "      <td>11.0</td>\n",
       "      <td>34.0</td>\n",
       "      <td>0.9978</td>\n",
       "      <td>3.51</td>\n",
       "      <td>0.56</td>\n",
       "      <td>9.4</td>\n",
       "      <td>5.0</td>\n",
       "    </tr>\n",
       "  </tbody>\n",
       "</table>\n",
       "</div>"
      ],
      "text/plain": [
       "  color  Fixed Acidity  Volitile Acidity  Critic Acid  Residual Sugar  \\\n",
       "0   red            7.4              0.70         0.00             1.9   \n",
       "1   red            7.8              0.88         0.00             2.6   \n",
       "2   red            7.8              0.76         0.04             2.3   \n",
       "3   red           11.2              0.28         0.56             1.9   \n",
       "4   red            7.4              0.70         0.00             1.9   \n",
       "\n",
       "   Chlorides  Free Sulfur Dioxide  Total Sulfur Dioxide  Density    PH  \\\n",
       "0      0.076                 11.0                  34.0   0.9978  3.51   \n",
       "1      0.098                 25.0                  67.0   0.9968  3.20   \n",
       "2      0.092                 15.0                  54.0   0.9970  3.26   \n",
       "3      0.075                 17.0                  60.0   0.9980  3.16   \n",
       "4      0.076                 11.0                  34.0   0.9978  3.51   \n",
       "\n",
       "   Sulphates  Alcohol  Quality  \n",
       "0       0.56      9.4      5.0  \n",
       "1       0.68      9.8      5.0  \n",
       "2       0.65      9.8      5.0  \n",
       "3       0.58      9.8      6.0  \n",
       "4       0.56      9.4      5.0  "
      ]
     },
     "execution_count": 82,
     "metadata": {},
     "output_type": "execute_result"
    }
   ],
   "source": [
    "#importing the pandas library.\n",
    "import pandas as pd\n",
    "#reading the data first data file.\n",
    "red = pd.read_csv(\"winequality-red.csv\")\n",
    "#converting the column values to string so we can split them to diffirent columns.\n",
    "red[[\"Fixed Acidity\", \"Volitile Acidity\",\"Critic Acid\",\"Residual Sugar\",\"Chlorides\",\"Free Sulfur Dioxide\",\"Total Sulfur Dioxide\",\"Density\",\"PH\",\"Sulphates\",\"Alcohol\",\"Quality\"]] = red[\"column\"].str.split(\";\", expand = True)\n",
    "#removing the original column.\n",
    "red = red.drop(columns = [\"column\"])\n",
    "#converting the dataset values from string to float.\n",
    "red = red.astype(float)\n",
    "#inserting a new column for the color.\n",
    "red.insert(0, \"color\", \"red\")\n",
    "#Showing the first five rows.\n",
    "red.head()\n",
    "\n",
    "#Note: the dataset file has a one column called \"column\"."
   ]
  },
  {
   "cell_type": "code",
   "execution_count": 83,
   "id": "826d7e56",
   "metadata": {},
   "outputs": [
    {
     "data": {
      "text/html": [
       "<div>\n",
       "<style scoped>\n",
       "    .dataframe tbody tr th:only-of-type {\n",
       "        vertical-align: middle;\n",
       "    }\n",
       "\n",
       "    .dataframe tbody tr th {\n",
       "        vertical-align: top;\n",
       "    }\n",
       "\n",
       "    .dataframe thead th {\n",
       "        text-align: right;\n",
       "    }\n",
       "</style>\n",
       "<table border=\"1\" class=\"dataframe\">\n",
       "  <thead>\n",
       "    <tr style=\"text-align: right;\">\n",
       "      <th></th>\n",
       "      <th>color</th>\n",
       "      <th>Fixed Acidity</th>\n",
       "      <th>Volitile Acidity</th>\n",
       "      <th>Critic Acid</th>\n",
       "      <th>Residual Sugar</th>\n",
       "      <th>Chlorides</th>\n",
       "      <th>Free Sulfur Dioxide</th>\n",
       "      <th>Total Sulfur Dioxide</th>\n",
       "      <th>Density</th>\n",
       "      <th>PH</th>\n",
       "      <th>Sulphates</th>\n",
       "      <th>Alcohol</th>\n",
       "      <th>Quality</th>\n",
       "    </tr>\n",
       "  </thead>\n",
       "  <tbody>\n",
       "    <tr>\n",
       "      <th>0</th>\n",
       "      <td>white</td>\n",
       "      <td>7.0</td>\n",
       "      <td>0.27</td>\n",
       "      <td>0.36</td>\n",
       "      <td>20.7</td>\n",
       "      <td>0.045</td>\n",
       "      <td>45.0</td>\n",
       "      <td>170.0</td>\n",
       "      <td>1.0010</td>\n",
       "      <td>3.00</td>\n",
       "      <td>0.45</td>\n",
       "      <td>8.8</td>\n",
       "      <td>6.0</td>\n",
       "    </tr>\n",
       "    <tr>\n",
       "      <th>1</th>\n",
       "      <td>white</td>\n",
       "      <td>6.3</td>\n",
       "      <td>0.30</td>\n",
       "      <td>0.34</td>\n",
       "      <td>1.6</td>\n",
       "      <td>0.049</td>\n",
       "      <td>14.0</td>\n",
       "      <td>132.0</td>\n",
       "      <td>0.9940</td>\n",
       "      <td>3.30</td>\n",
       "      <td>0.49</td>\n",
       "      <td>9.5</td>\n",
       "      <td>6.0</td>\n",
       "    </tr>\n",
       "    <tr>\n",
       "      <th>2</th>\n",
       "      <td>white</td>\n",
       "      <td>8.1</td>\n",
       "      <td>0.28</td>\n",
       "      <td>0.40</td>\n",
       "      <td>6.9</td>\n",
       "      <td>0.050</td>\n",
       "      <td>30.0</td>\n",
       "      <td>97.0</td>\n",
       "      <td>0.9951</td>\n",
       "      <td>3.26</td>\n",
       "      <td>0.44</td>\n",
       "      <td>10.1</td>\n",
       "      <td>6.0</td>\n",
       "    </tr>\n",
       "    <tr>\n",
       "      <th>3</th>\n",
       "      <td>white</td>\n",
       "      <td>7.2</td>\n",
       "      <td>0.23</td>\n",
       "      <td>0.32</td>\n",
       "      <td>8.5</td>\n",
       "      <td>0.058</td>\n",
       "      <td>47.0</td>\n",
       "      <td>186.0</td>\n",
       "      <td>0.9956</td>\n",
       "      <td>3.19</td>\n",
       "      <td>0.40</td>\n",
       "      <td>9.9</td>\n",
       "      <td>6.0</td>\n",
       "    </tr>\n",
       "    <tr>\n",
       "      <th>4</th>\n",
       "      <td>white</td>\n",
       "      <td>7.2</td>\n",
       "      <td>0.23</td>\n",
       "      <td>0.32</td>\n",
       "      <td>8.5</td>\n",
       "      <td>0.058</td>\n",
       "      <td>47.0</td>\n",
       "      <td>186.0</td>\n",
       "      <td>0.9956</td>\n",
       "      <td>3.19</td>\n",
       "      <td>0.40</td>\n",
       "      <td>9.9</td>\n",
       "      <td>6.0</td>\n",
       "    </tr>\n",
       "  </tbody>\n",
       "</table>\n",
       "</div>"
      ],
      "text/plain": [
       "   color  Fixed Acidity  Volitile Acidity  Critic Acid  Residual Sugar  \\\n",
       "0  white            7.0              0.27         0.36            20.7   \n",
       "1  white            6.3              0.30         0.34             1.6   \n",
       "2  white            8.1              0.28         0.40             6.9   \n",
       "3  white            7.2              0.23         0.32             8.5   \n",
       "4  white            7.2              0.23         0.32             8.5   \n",
       "\n",
       "   Chlorides  Free Sulfur Dioxide  Total Sulfur Dioxide  Density    PH  \\\n",
       "0      0.045                 45.0                 170.0   1.0010  3.00   \n",
       "1      0.049                 14.0                 132.0   0.9940  3.30   \n",
       "2      0.050                 30.0                  97.0   0.9951  3.26   \n",
       "3      0.058                 47.0                 186.0   0.9956  3.19   \n",
       "4      0.058                 47.0                 186.0   0.9956  3.19   \n",
       "\n",
       "   Sulphates  Alcohol  Quality  \n",
       "0       0.45      8.8      6.0  \n",
       "1       0.49      9.5      6.0  \n",
       "2       0.44     10.1      6.0  \n",
       "3       0.40      9.9      6.0  \n",
       "4       0.40      9.9      6.0  "
      ]
     },
     "execution_count": 83,
     "metadata": {},
     "output_type": "execute_result"
    }
   ],
   "source": [
    "#repeating the previous steps for the second dataset.\n",
    "white = pd.read_csv(\"winequality-white.csv\")\n",
    "white[[\"Fixed Acidity\", \"Volitile Acidity\",\"Critic Acid\",\"Residual Sugar\",\"Chlorides\",\"Free Sulfur Dioxide\",\"Total Sulfur Dioxide\",\"Density\",\"PH\",\"Sulphates\",\"Alcohol\",\"Quality\"]] = white[\"column\"].str.split(\";\", expand = True)\n",
    "white = white.drop(columns = [\"column\"])\n",
    "white = white.astype(float)\n",
    "white.insert(0, \"color\", \"white\")\n",
    "white.head()"
   ]
  },
  {
   "cell_type": "code",
   "execution_count": 84,
   "id": "92298955",
   "metadata": {},
   "outputs": [
    {
     "data": {
      "text/html": [
       "<div>\n",
       "<style scoped>\n",
       "    .dataframe tbody tr th:only-of-type {\n",
       "        vertical-align: middle;\n",
       "    }\n",
       "\n",
       "    .dataframe tbody tr th {\n",
       "        vertical-align: top;\n",
       "    }\n",
       "\n",
       "    .dataframe thead th {\n",
       "        text-align: right;\n",
       "    }\n",
       "</style>\n",
       "<table border=\"1\" class=\"dataframe\">\n",
       "  <thead>\n",
       "    <tr style=\"text-align: right;\">\n",
       "      <th></th>\n",
       "      <th>color</th>\n",
       "      <th>Fixed Acidity</th>\n",
       "      <th>Volitile Acidity</th>\n",
       "      <th>Critic Acid</th>\n",
       "      <th>Residual Sugar</th>\n",
       "      <th>Chlorides</th>\n",
       "      <th>Free Sulfur Dioxide</th>\n",
       "      <th>Total Sulfur Dioxide</th>\n",
       "      <th>Density</th>\n",
       "      <th>PH</th>\n",
       "      <th>Sulphates</th>\n",
       "      <th>Alcohol</th>\n",
       "      <th>Quality</th>\n",
       "    </tr>\n",
       "  </thead>\n",
       "  <tbody>\n",
       "    <tr>\n",
       "      <th>0</th>\n",
       "      <td>red</td>\n",
       "      <td>7.4</td>\n",
       "      <td>0.70</td>\n",
       "      <td>0.00</td>\n",
       "      <td>1.9</td>\n",
       "      <td>0.076</td>\n",
       "      <td>11.0</td>\n",
       "      <td>34.0</td>\n",
       "      <td>0.9978</td>\n",
       "      <td>3.51</td>\n",
       "      <td>0.56</td>\n",
       "      <td>9.4</td>\n",
       "      <td>5.0</td>\n",
       "    </tr>\n",
       "    <tr>\n",
       "      <th>1</th>\n",
       "      <td>red</td>\n",
       "      <td>7.8</td>\n",
       "      <td>0.88</td>\n",
       "      <td>0.00</td>\n",
       "      <td>2.6</td>\n",
       "      <td>0.098</td>\n",
       "      <td>25.0</td>\n",
       "      <td>67.0</td>\n",
       "      <td>0.9968</td>\n",
       "      <td>3.20</td>\n",
       "      <td>0.68</td>\n",
       "      <td>9.8</td>\n",
       "      <td>5.0</td>\n",
       "    </tr>\n",
       "    <tr>\n",
       "      <th>2</th>\n",
       "      <td>red</td>\n",
       "      <td>7.8</td>\n",
       "      <td>0.76</td>\n",
       "      <td>0.04</td>\n",
       "      <td>2.3</td>\n",
       "      <td>0.092</td>\n",
       "      <td>15.0</td>\n",
       "      <td>54.0</td>\n",
       "      <td>0.9970</td>\n",
       "      <td>3.26</td>\n",
       "      <td>0.65</td>\n",
       "      <td>9.8</td>\n",
       "      <td>5.0</td>\n",
       "    </tr>\n",
       "    <tr>\n",
       "      <th>3</th>\n",
       "      <td>red</td>\n",
       "      <td>11.2</td>\n",
       "      <td>0.28</td>\n",
       "      <td>0.56</td>\n",
       "      <td>1.9</td>\n",
       "      <td>0.075</td>\n",
       "      <td>17.0</td>\n",
       "      <td>60.0</td>\n",
       "      <td>0.9980</td>\n",
       "      <td>3.16</td>\n",
       "      <td>0.58</td>\n",
       "      <td>9.8</td>\n",
       "      <td>6.0</td>\n",
       "    </tr>\n",
       "    <tr>\n",
       "      <th>4</th>\n",
       "      <td>red</td>\n",
       "      <td>7.4</td>\n",
       "      <td>0.70</td>\n",
       "      <td>0.00</td>\n",
       "      <td>1.9</td>\n",
       "      <td>0.076</td>\n",
       "      <td>11.0</td>\n",
       "      <td>34.0</td>\n",
       "      <td>0.9978</td>\n",
       "      <td>3.51</td>\n",
       "      <td>0.56</td>\n",
       "      <td>9.4</td>\n",
       "      <td>5.0</td>\n",
       "    </tr>\n",
       "  </tbody>\n",
       "</table>\n",
       "</div>"
      ],
      "text/plain": [
       "  color  Fixed Acidity  Volitile Acidity  Critic Acid  Residual Sugar  \\\n",
       "0   red            7.4              0.70         0.00             1.9   \n",
       "1   red            7.8              0.88         0.00             2.6   \n",
       "2   red            7.8              0.76         0.04             2.3   \n",
       "3   red           11.2              0.28         0.56             1.9   \n",
       "4   red            7.4              0.70         0.00             1.9   \n",
       "\n",
       "   Chlorides  Free Sulfur Dioxide  Total Sulfur Dioxide  Density    PH  \\\n",
       "0      0.076                 11.0                  34.0   0.9978  3.51   \n",
       "1      0.098                 25.0                  67.0   0.9968  3.20   \n",
       "2      0.092                 15.0                  54.0   0.9970  3.26   \n",
       "3      0.075                 17.0                  60.0   0.9980  3.16   \n",
       "4      0.076                 11.0                  34.0   0.9978  3.51   \n",
       "\n",
       "   Sulphates  Alcohol  Quality  \n",
       "0       0.56      9.4      5.0  \n",
       "1       0.68      9.8      5.0  \n",
       "2       0.65      9.8      5.0  \n",
       "3       0.58      9.8      6.0  \n",
       "4       0.56      9.4      5.0  "
      ]
     },
     "execution_count": 84,
     "metadata": {},
     "output_type": "execute_result"
    }
   ],
   "source": [
    "#integrating the two datasets, on top of each other\n",
    "red_white = pd.concat([red, white], axis = 0)\n",
    "red_white.head()"
   ]
  },
  {
   "cell_type": "code",
   "execution_count": 85,
   "id": "6e47ad71",
   "metadata": {},
   "outputs": [
    {
     "data": {
      "text/html": [
       "<div>\n",
       "<style scoped>\n",
       "    .dataframe tbody tr th:only-of-type {\n",
       "        vertical-align: middle;\n",
       "    }\n",
       "\n",
       "    .dataframe tbody tr th {\n",
       "        vertical-align: top;\n",
       "    }\n",
       "\n",
       "    .dataframe thead th {\n",
       "        text-align: right;\n",
       "    }\n",
       "</style>\n",
       "<table border=\"1\" class=\"dataframe\">\n",
       "  <thead>\n",
       "    <tr style=\"text-align: right;\">\n",
       "      <th></th>\n",
       "      <th>missing</th>\n",
       "    </tr>\n",
       "  </thead>\n",
       "  <tbody>\n",
       "    <tr>\n",
       "      <th>color</th>\n",
       "      <td>0</td>\n",
       "    </tr>\n",
       "    <tr>\n",
       "      <th>Fixed Acidity</th>\n",
       "      <td>0</td>\n",
       "    </tr>\n",
       "    <tr>\n",
       "      <th>Volitile Acidity</th>\n",
       "      <td>0</td>\n",
       "    </tr>\n",
       "    <tr>\n",
       "      <th>Critic Acid</th>\n",
       "      <td>0</td>\n",
       "    </tr>\n",
       "    <tr>\n",
       "      <th>Residual Sugar</th>\n",
       "      <td>0</td>\n",
       "    </tr>\n",
       "    <tr>\n",
       "      <th>Chlorides</th>\n",
       "      <td>0</td>\n",
       "    </tr>\n",
       "    <tr>\n",
       "      <th>Free Sulfur Dioxide</th>\n",
       "      <td>0</td>\n",
       "    </tr>\n",
       "    <tr>\n",
       "      <th>Total Sulfur Dioxide</th>\n",
       "      <td>0</td>\n",
       "    </tr>\n",
       "    <tr>\n",
       "      <th>Density</th>\n",
       "      <td>0</td>\n",
       "    </tr>\n",
       "    <tr>\n",
       "      <th>PH</th>\n",
       "      <td>0</td>\n",
       "    </tr>\n",
       "    <tr>\n",
       "      <th>Sulphates</th>\n",
       "      <td>0</td>\n",
       "    </tr>\n",
       "    <tr>\n",
       "      <th>Alcohol</th>\n",
       "      <td>0</td>\n",
       "    </tr>\n",
       "    <tr>\n",
       "      <th>Quality</th>\n",
       "      <td>0</td>\n",
       "    </tr>\n",
       "  </tbody>\n",
       "</table>\n",
       "</div>"
      ],
      "text/plain": [
       "                      missing\n",
       "color                       0\n",
       "Fixed Acidity               0\n",
       "Volitile Acidity            0\n",
       "Critic Acid                 0\n",
       "Residual Sugar              0\n",
       "Chlorides                   0\n",
       "Free Sulfur Dioxide         0\n",
       "Total Sulfur Dioxide        0\n",
       "Density                     0\n",
       "PH                          0\n",
       "Sulphates                   0\n",
       "Alcohol                     0\n",
       "Quality                     0"
      ]
     },
     "execution_count": 85,
     "metadata": {},
     "output_type": "execute_result"
    }
   ],
   "source": [
    "#checking if there are any missing values\n",
    "missing = pd.DataFrame({'missing': red_white.isnull().sum()})\n",
    "missing"
   ]
  },
  {
   "cell_type": "code",
   "execution_count": 86,
   "id": "bf14145f",
   "metadata": {},
   "outputs": [],
   "source": [
    "#There are no null values, so we do not have to bother with filling them."
   ]
  },
  {
   "cell_type": "code",
   "execution_count": 87,
   "id": "bafbeb6e",
   "metadata": {},
   "outputs": [
    {
     "data": {
      "text/plain": [
       "<AxesSubplot:>"
      ]
     },
     "execution_count": 87,
     "metadata": {},
     "output_type": "execute_result"
    },
    {
     "data": {
      "image/png": "[encoded data removed]",
      "text/plain": [
       "<Figure size 1512x792 with 1 Axes>"
      ]
     },
     "metadata": {
      "needs_background": "light"
     },
     "output_type": "display_data"
    }
   ],
   "source": [
    "#Plotting the newly integrated dataset using the box plot to see if there are any outliers.\n",
    "#import the libraries\n",
    "import matplotlib.pyplot as plt\n",
    "#Defining the figure size.\n",
    "plt.figure(figsize= (21, 11))\n",
    "#Do the plotting\n",
    "red_white.boxplot()"
   ]
  },
  {
   "cell_type": "code",
   "execution_count": 88,
   "id": "e7ed1e03",
   "metadata": {},
   "outputs": [],
   "source": [
    "#there is a considerable number of outliers..."
   ]
  },
  {
   "cell_type": "code",
   "execution_count": 89,
   "id": "ebd22c56",
   "metadata": {},
   "outputs": [
    {
     "data": {
      "text/plain": [
       "array([[<AxesSubplot:title={'center':'Fixed Acidity'}>,\n",
       "        <AxesSubplot:title={'center':'Volitile Acidity'}>,\n",
       "        <AxesSubplot:title={'center':'Critic Acid'}>],\n",
       "       [<AxesSubplot:title={'center':'Residual Sugar'}>,\n",
       "        <AxesSubplot:title={'center':'Chlorides'}>,\n",
       "        <AxesSubplot:title={'center':'Free Sulfur Dioxide'}>],\n",
       "       [<AxesSubplot:title={'center':'Total Sulfur Dioxide'}>,\n",
       "        <AxesSubplot:title={'center':'Density'}>,\n",
       "        <AxesSubplot:title={'center':'PH'}>],\n",
       "       [<AxesSubplot:title={'center':'Sulphates'}>,\n",
       "        <AxesSubplot:title={'center':'Alcohol'}>,\n",
       "        <AxesSubplot:title={'center':'Quality'}>]], dtype=object)"
      ]
     },
     "execution_count": 89,
     "metadata": {},
     "output_type": "execute_result"
    },
    {
     "data": {
      "image/png": "[encoded data removed]",
      "text/plain": [
       "<Figure size 432x288 with 12 Axes>"
      ]
     },
     "metadata": {
      "needs_background": "light"
     },
     "output_type": "display_data"
    }
   ],
   "source": [
    "#Plotting a histogram for each column.\n",
    "red_white.hist()"
   ]
  },
  {
   "cell_type": "code",
   "execution_count": 90,
   "id": "943ed8b2",
   "metadata": {},
   "outputs": [
    {
     "data": {
      "text/plain": [
       "<AxesSubplot:>"
      ]
     },
     "execution_count": 90,
     "metadata": {},
     "output_type": "execute_result"
    },
    {
     "data": {
      "image/png": "[encoded data removed]",
      "text/plain": [
       "<Figure size 1512x792 with 1 Axes>"
      ]
     },
     "metadata": {
      "needs_background": "light"
     },
     "output_type": "display_data"
    }
   ],
   "source": [
    "#Replacing the string values of the \"color\" column.\n",
    "red_white.color.replace(('red','white'),(0,1), inplace=True)\n",
    "\n",
    "#Using the robust scaler to scale the data so we can deal with this noisy dataset.\n",
    "#Importing the scaler.\n",
    "from sklearn.preprocessing import RobustScaler\n",
    "#training the scaler.\n",
    "robustScaler = RobustScaler().fit(red_white)\n",
    "#Normalizing the data.\n",
    "scaledRed_white = pd.DataFrame(robustScaler.transform(red_white))\n",
    "\n",
    "#Plotting the newly scaled data.\n",
    "plt.figure(figsize= (21, 11))\n",
    "scaledRed_white.boxplot()\n",
    "\n",
    "\n",
    "#Note: the reason for choosing the robust scaler is the \"robustness\" which means the ability to ignore and to deal with outliers , as the name suggests."
   ]
  },
  {
   "cell_type": "code",
   "execution_count": 91,
   "id": "294157e0",
   "metadata": {},
   "outputs": [
    {
     "data": {
      "text/html": [
       "<div>\n",
       "<style scoped>\n",
       "    .dataframe tbody tr th:only-of-type {\n",
       "        vertical-align: middle;\n",
       "    }\n",
       "\n",
       "    .dataframe tbody tr th {\n",
       "        vertical-align: top;\n",
       "    }\n",
       "\n",
       "    .dataframe thead th {\n",
       "        text-align: right;\n",
       "    }\n",
       "</style>\n",
       "<table border=\"1\" class=\"dataframe\">\n",
       "  <thead>\n",
       "    <tr style=\"text-align: right;\">\n",
       "      <th></th>\n",
       "      <th>0</th>\n",
       "      <th>1</th>\n",
       "      <th>2</th>\n",
       "      <th>3</th>\n",
       "      <th>4</th>\n",
       "      <th>5</th>\n",
       "      <th>6</th>\n",
       "      <th>7</th>\n",
       "      <th>8</th>\n",
       "      <th>9</th>\n",
       "      <th>10</th>\n",
       "      <th>11</th>\n",
       "    </tr>\n",
       "  </thead>\n",
       "  <tbody>\n",
       "    <tr>\n",
       "      <th>0</th>\n",
       "      <td>-1.0</td>\n",
       "      <td>0.307692</td>\n",
       "      <td>2.411765</td>\n",
       "      <td>-2.214286</td>\n",
       "      <td>-0.174603</td>\n",
       "      <td>1.074074</td>\n",
       "      <td>-0.750000</td>\n",
       "      <td>-1.063291</td>\n",
       "      <td>0.625806</td>\n",
       "      <td>1.428571</td>\n",
       "      <td>0.294118</td>\n",
       "      <td>-0.500000</td>\n",
       "    </tr>\n",
       "    <tr>\n",
       "      <th>1</th>\n",
       "      <td>-1.0</td>\n",
       "      <td>0.615385</td>\n",
       "      <td>3.470588</td>\n",
       "      <td>-2.214286</td>\n",
       "      <td>-0.063492</td>\n",
       "      <td>1.888889</td>\n",
       "      <td>-0.166667</td>\n",
       "      <td>-0.645570</td>\n",
       "      <td>0.410753</td>\n",
       "      <td>-0.047619</td>\n",
       "      <td>1.000000</td>\n",
       "      <td>-0.277778</td>\n",
       "    </tr>\n",
       "    <tr>\n",
       "      <th>2</th>\n",
       "      <td>-1.0</td>\n",
       "      <td>0.615385</td>\n",
       "      <td>2.764706</td>\n",
       "      <td>-1.928571</td>\n",
       "      <td>-0.111111</td>\n",
       "      <td>1.666667</td>\n",
       "      <td>-0.583333</td>\n",
       "      <td>-0.810127</td>\n",
       "      <td>0.453763</td>\n",
       "      <td>0.238095</td>\n",
       "      <td>0.823529</td>\n",
       "      <td>-0.277778</td>\n",
       "    </tr>\n",
       "    <tr>\n",
       "      <th>3</th>\n",
       "      <td>-1.0</td>\n",
       "      <td>3.230769</td>\n",
       "      <td>-0.058824</td>\n",
       "      <td>1.785714</td>\n",
       "      <td>-0.174603</td>\n",
       "      <td>1.037037</td>\n",
       "      <td>-0.500000</td>\n",
       "      <td>-0.734177</td>\n",
       "      <td>0.668817</td>\n",
       "      <td>-0.238095</td>\n",
       "      <td>0.411765</td>\n",
       "      <td>-0.277778</td>\n",
       "    </tr>\n",
       "    <tr>\n",
       "      <th>4</th>\n",
       "      <td>-1.0</td>\n",
       "      <td>0.307692</td>\n",
       "      <td>2.411765</td>\n",
       "      <td>-2.214286</td>\n",
       "      <td>-0.174603</td>\n",
       "      <td>1.074074</td>\n",
       "      <td>-0.750000</td>\n",
       "      <td>-1.063291</td>\n",
       "      <td>0.625806</td>\n",
       "      <td>1.428571</td>\n",
       "      <td>0.294118</td>\n",
       "      <td>-0.500000</td>\n",
       "    </tr>\n",
       "  </tbody>\n",
       "</table>\n",
       "</div>"
      ],
      "text/plain": [
       "    0         1         2         3         4         5         6         7   \\\n",
       "0 -1.0  0.307692  2.411765 -2.214286 -0.174603  1.074074 -0.750000 -1.063291   \n",
       "1 -1.0  0.615385  3.470588 -2.214286 -0.063492  1.888889 -0.166667 -0.645570   \n",
       "2 -1.0  0.615385  2.764706 -1.928571 -0.111111  1.666667 -0.583333 -0.810127   \n",
       "3 -1.0  3.230769 -0.058824  1.785714 -0.174603  1.037037 -0.500000 -0.734177   \n",
       "4 -1.0  0.307692  2.411765 -2.214286 -0.174603  1.074074 -0.750000 -1.063291   \n",
       "\n",
       "         8         9         10        11  \n",
       "0  0.625806  1.428571  0.294118 -0.500000  \n",
       "1  0.410753 -0.047619  1.000000 -0.277778  \n",
       "2  0.453763  0.238095  0.823529 -0.277778  \n",
       "3  0.668817 -0.238095  0.411765 -0.277778  \n",
       "4  0.625806  1.428571  0.294118 -0.500000  "
      ]
     },
     "execution_count": 91,
     "metadata": {},
     "output_type": "execute_result"
    }
   ],
   "source": [
    "#Partioning the scaled dataset to two partitions: features and target class\n",
    "Data = scaledRed_white.iloc[:, :12]\n",
    "Target = scaledRed_white.iloc[:, 12]\n",
    "Data.head()\n"
   ]
  },
  {
   "cell_type": "code",
   "execution_count": 92,
   "id": "a5273bd9",
   "metadata": {},
   "outputs": [
    {
     "data": {
      "text/plain": [
       "0   -1.0\n",
       "1   -1.0\n",
       "2   -1.0\n",
       "3    0.0\n",
       "4   -1.0\n",
       "Name: 12, dtype: float64"
      ]
     },
     "execution_count": 92,
     "metadata": {},
     "output_type": "execute_result"
    }
   ],
   "source": [
    "Target.head()"
   ]
  },
  {
   "cell_type": "code",
   "execution_count": 93,
   "id": "7f77ee88",
   "metadata": {},
   "outputs": [],
   "source": [
    "#Splitting the data to test set and train set. \n",
    "#importing splitting module\n",
    "from sklearn.model_selection import train_test_split\n",
    "#specifying the size of the test set, 30%, the rest is the train set, 70%.\n",
    "X_train, X_test, y_train, y_test = train_test_split(Data, Target, test_size=0.3)"
   ]
  },
  {
   "cell_type": "code",
   "execution_count": 94,
   "id": "6b0fda67",
   "metadata": {},
   "outputs": [],
   "source": [
    "#importing the first classifier, Naiive Bayes.\n",
    "from sklearn.naive_bayes import GaussianNB as gnb\n",
    "model = gnb()\n",
    "#classifier training.\n",
    "model.fit(X_train, y_train)\n",
    "#testing the classifier.\n",
    "y_pred=model.predict(X_test)"
   ]
  },
  {
   "cell_type": "code",
   "execution_count": 95,
   "id": "c6c96aef",
   "metadata": {},
   "outputs": [
    {
     "data": {
      "text/plain": [
       "0.42102564102564105"
      ]
     },
     "execution_count": 95,
     "metadata": {},
     "output_type": "execute_result"
    }
   ],
   "source": [
    "#Evaluating the classifier using the \"metrics\" module.\n",
    "from sklearn import metrics\n",
    "\n",
    "#Checking the accuracy.\n",
    "metrics.accuracy_score(y_test, y_pred)\n"
   ]
  },
  {
   "cell_type": "code",
   "execution_count": 96,
   "id": "f477931f",
   "metadata": {},
   "outputs": [
    {
     "name": "stderr",
     "output_type": "stream",
     "text": [
      "C:\\Users\\hp\\anaconda3\\lib\\site-packages\\sklearn\\metrics\\_classification.py:1295: UserWarning: Note that pos_label (set to 'positive') is ignored when average != 'binary' (got 'micro'). You may use labels=[pos_label] to specify a single positive class.\n",
      "  warnings.warn(\"Note that pos_label (set to %r) is ignored when \"\n"
     ]
    },
    {
     "data": {
      "text/plain": [
       "0.42102564102564105"
      ]
     },
     "execution_count": 96,
     "metadata": {},
     "output_type": "execute_result"
    }
   ],
   "source": [
    "#checking the F1 score\n",
    "metrics.f1_score(y_test, y_pred, pos_label='positive' ,average='micro', zero_division = 0)"
   ]
  },
  {
   "cell_type": "code",
   "execution_count": 97,
   "id": "cfac13c1",
   "metadata": {},
   "outputs": [
    {
     "data": {
      "text/plain": [
       "array([[  4,   1,   4,   1,   2,   0,   0],\n",
       "       [  2,  10,  28,  19,   5,   1,   0],\n",
       "       [ 10,  15, 365, 196,  41,   1,  12],\n",
       "       [ 11,  17, 256, 303, 209,  21,  27],\n",
       "       [  3,   7,  37,  98, 130,  28,  20],\n",
       "       [  2,   0,   6,  15,  25,   9,   6],\n",
       "       [  0,   0,   0,   0,   3,   0,   0]], dtype=int64)"
      ]
     },
     "execution_count": 97,
     "metadata": {},
     "output_type": "execute_result"
    }
   ],
   "source": [
    "#A look at the confusion matrix.\n",
    "metrics.confusion_matrix(y_test, y_pred)"
   ]
  },
  {
   "cell_type": "code",
   "execution_count": 98,
   "id": "09672b8e",
   "metadata": {},
   "outputs": [
    {
     "data": {
      "text/plain": [
       "'              precision    recall  f1-score   support\\n\\n        -3.0       0.12      0.33      0.18        12\\n        -2.0       0.20      0.15      0.17        65\\n        -1.0       0.52      0.57      0.55       640\\n         0.0       0.48      0.36      0.41       844\\n         1.0       0.31      0.40      0.35       323\\n         2.0       0.15      0.14      0.15        63\\n         3.0       0.00      0.00      0.00         3\\n\\n    accuracy                           0.42      1950\\n   macro avg       0.26      0.28      0.26      1950\\nweighted avg       0.44      0.42      0.43      1950\\n'"
      ]
     },
     "execution_count": 98,
     "metadata": {},
     "output_type": "execute_result"
    }
   ],
   "source": [
    "#A report that shows a number of metrics.\n",
    "metrics.classification_report(y_test, y_pred)"
   ]
  },
  {
   "cell_type": "code",
   "execution_count": 99,
   "id": "35fd350c",
   "metadata": {},
   "outputs": [
    {
     "data": {
      "text/plain": [
       "<sklearn.metrics._plot.confusion_matrix.ConfusionMatrixDisplay at 0x1ee0a7a0d90>"
      ]
     },
     "execution_count": 99,
     "metadata": {},
     "output_type": "execute_result"
    },
    {
     "data": {
      "image/png": "[encoded data removed]",
      "text/plain": [
       "<Figure size 432x288 with 2 Axes>"
      ]
     },
     "metadata": {
      "needs_background": "light"
     },
     "output_type": "display_data"
    }
   ],
   "source": [
    "#Plotting the confusion matrix for a better look.\n",
    "metrics.plot_confusion_matrix(model, X_test, y_test)"
   ]
  },
  {
   "cell_type": "code",
   "execution_count": 100,
   "id": "0cbaa0fb",
   "metadata": {},
   "outputs": [
    {
     "name": "stdout",
     "output_type": "stream",
     "text": [
      "XGBClassifier(base_score=None, booster=None, colsample_bylevel=None,\n",
      "              colsample_bynode=None, colsample_bytree=None,\n",
      "              enable_categorical=False, gamma=None, gpu_id=None,\n",
      "              importance_type=None, interaction_constraints=None,\n",
      "              learning_rate=None, max_delta_step=None, max_depth=None,\n",
      "              min_child_weight=None, missing=nan, monotone_constraints=None,\n",
      "              n_estimators=100, n_jobs=None, num_parallel_tree=None,\n",
      "              predictor=None, random_state=None, reg_alpha=None,\n",
      "              reg_lambda=None, scale_pos_weight=None, subsample=None,\n",
      "              tree_method=None, validate_parameters=None, verbosity=None)\n"
     ]
    }
   ],
   "source": [
    "#Trying another classfier: XGBoost.\n",
    "import xgboost as xgb\n",
    "from xgboost import XGBClassifier\n",
    "xgbc = XGBClassifier()\n",
    "#There are a lot of parameters...\n",
    "print(xgbc)\n"
   ]
  },
  {
   "cell_type": "code",
   "execution_count": 101,
   "id": "935771b3",
   "metadata": {},
   "outputs": [
    {
     "name": "stderr",
     "output_type": "stream",
     "text": [
      "C:\\Users\\hp\\anaconda3\\lib\\site-packages\\xgboost\\sklearn.py:1224: UserWarning: The use of label encoder in XGBClassifier is deprecated and will be removed in a future release. To remove this warning, do the following: 1) Pass option use_label_encoder=False when constructing XGBClassifier object; and 2) Encode your labels (y) as integers starting with 0, i.e. 0, 1, 2, ..., [num_class - 1].\n",
      "  warnings.warn(label_encoder_deprecation_msg, UserWarning)\n"
     ]
    },
    {
     "name": "stdout",
     "output_type": "stream",
     "text": [
      "[18:38:05] WARNING: C:\\Windows\\Temp\\abs_557yfx631l\\croots\\recipe\\xgboost-split_1659548953302\\work\\src\\learner.cc:1115: Starting in XGBoost 1.3.0, the default evaluation metric used with the objective 'multi:softprob' was changed from 'merror' to 'mlogloss'. Explicitly set eval_metric if you'd like to restore the old behavior.\n"
     ]
    }
   ],
   "source": [
    "#Repeating the same steps as in the Naiive Bayes.\n",
    "xgbc.fit(X_train, y_train)\n",
    "y_pred = xgbc.predict(X_test)\n"
   ]
  },
  {
   "cell_type": "code",
   "execution_count": 102,
   "id": "254288ea",
   "metadata": {},
   "outputs": [
    {
     "data": {
      "text/plain": [
       "0.6579487179487179"
      ]
     },
     "execution_count": 102,
     "metadata": {},
     "output_type": "execute_result"
    }
   ],
   "source": [
    "metrics.accuracy_score(y_test, y_pred)"
   ]
  },
  {
   "cell_type": "code",
   "execution_count": 103,
   "id": "ff8a84ea",
   "metadata": {},
   "outputs": [
    {
     "name": "stderr",
     "output_type": "stream",
     "text": [
      "C:\\Users\\hp\\anaconda3\\lib\\site-packages\\sklearn\\metrics\\_classification.py:1295: UserWarning: Note that pos_label (set to 'positive') is ignored when average != 'binary' (got 'micro'). You may use labels=[pos_label] to specify a single positive class.\n",
      "  warnings.warn(\"Note that pos_label (set to %r) is ignored when \"\n"
     ]
    },
    {
     "data": {
      "text/plain": [
       "0.6579487179487179"
      ]
     },
     "execution_count": 103,
     "metadata": {},
     "output_type": "execute_result"
    }
   ],
   "source": [
    "metrics.f1_score(y_test, y_pred, pos_label='positive' ,average='micro', zero_division = 0)"
   ]
  },
  {
   "cell_type": "code",
   "execution_count": 104,
   "id": "9abfcece",
   "metadata": {},
   "outputs": [
    {
     "data": {
      "text/plain": [
       "array([[  0,   1,   6,   5,   0,   0,   0],\n",
       "       [  0,   7,  39,  18,   1,   0,   0],\n",
       "       [  0,   6, 452, 173,   8,   1,   0],\n",
       "       [  0,   3, 145, 610,  81,   5,   0],\n",
       "       [  0,   1,   9, 119, 192,   2,   0],\n",
       "       [  0,   0,   0,  22,  19,  22,   0],\n",
       "       [  0,   0,   0,   0,   3,   0,   0]], dtype=int64)"
      ]
     },
     "execution_count": 104,
     "metadata": {},
     "output_type": "execute_result"
    }
   ],
   "source": [
    "metrics.confusion_matrix(y_test, y_pred)"
   ]
  },
  {
   "cell_type": "code",
   "execution_count": 105,
   "id": "67189345",
   "metadata": {},
   "outputs": [
    {
     "data": {
      "text/plain": [
       "<sklearn.metrics._plot.confusion_matrix.ConfusionMatrixDisplay at 0x1ee0ac5dd00>"
      ]
     },
     "execution_count": 105,
     "metadata": {},
     "output_type": "execute_result"
    },
    {
     "data": {
      "image/png": "[encoded data removed]",
      "text/plain": [
       "<Figure size 432x288 with 2 Axes>"
      ]
     },
     "metadata": {
      "needs_background": "light"
     },
     "output_type": "display_data"
    }
   ],
   "source": [
    "metrics.plot_confusion_matrix(xgbc, X_test, y_test)"
   ]
  },
  {
   "cell_type": "code",
   "execution_count": 106,
   "id": "53673381",
   "metadata": {},
   "outputs": [],
   "source": [
    "#Another classifier: Support Vector Machine classifier.\n",
    "#We do the same steps again.\n",
    "from sklearn.svm import SVC\n",
    "\n",
    "svc = SVC(kernel = 'linear', random_state = 0) \n",
    "\n",
    "svc.fit(X_train,y_train)\n",
    "\n",
    "y_pred = svc.predict(X_test)"
   ]
  },
  {
   "cell_type": "code",
   "execution_count": 107,
   "id": "0de9ce24",
   "metadata": {},
   "outputs": [
    {
     "data": {
      "text/plain": [
       "0.5287179487179487"
      ]
     },
     "execution_count": 107,
     "metadata": {},
     "output_type": "execute_result"
    }
   ],
   "source": [
    "metrics.accuracy_score(y_test, y_pred)"
   ]
  },
  {
   "cell_type": "code",
   "execution_count": 108,
   "id": "39540df9",
   "metadata": {},
   "outputs": [
    {
     "name": "stderr",
     "output_type": "stream",
     "text": [
      "C:\\Users\\hp\\anaconda3\\lib\\site-packages\\sklearn\\metrics\\_classification.py:1295: UserWarning: Note that pos_label (set to 'positive') is ignored when average != 'binary' (got 'micro'). You may use labels=[pos_label] to specify a single positive class.\n",
      "  warnings.warn(\"Note that pos_label (set to %r) is ignored when \"\n"
     ]
    },
    {
     "data": {
      "text/plain": [
       "0.5287179487179487"
      ]
     },
     "execution_count": 108,
     "metadata": {},
     "output_type": "execute_result"
    }
   ],
   "source": [
    "metrics.f1_score(y_test, y_pred, pos_label='positive' ,average='micro', zero_division = 0)"
   ]
  },
  {
   "cell_type": "code",
   "execution_count": 109,
   "id": "7f8160b8",
   "metadata": {},
   "outputs": [
    {
     "data": {
      "text/plain": [
       "array([[  0,   0,   4,   8,   0,   0,   0],\n",
       "       [  0,   0,  41,  24,   0,   0,   0],\n",
       "       [  0,   0, 380, 260,   0,   0,   0],\n",
       "       [  0,   0, 193, 651,   0,   0,   0],\n",
       "       [  0,   0,  26, 297,   0,   0,   0],\n",
       "       [  0,   0,   4,  59,   0,   0,   0],\n",
       "       [  0,   0,   0,   3,   0,   0,   0]], dtype=int64)"
      ]
     },
     "execution_count": 109,
     "metadata": {},
     "output_type": "execute_result"
    }
   ],
   "source": [
    "metrics.confusion_matrix(y_test, y_pred)"
   ]
  },
  {
   "cell_type": "code",
   "execution_count": 110,
   "id": "56ee08b5",
   "metadata": {},
   "outputs": [
    {
     "data": {
      "text/plain": [
       "<sklearn.metrics._plot.confusion_matrix.ConfusionMatrixDisplay at 0x1ee0ae33af0>"
      ]
     },
     "execution_count": 110,
     "metadata": {},
     "output_type": "execute_result"
    },
    {
     "data": {
      "image/png": "[encoded data removed]",
      "text/plain": [
       "<Figure size 432x288 with 2 Axes>"
      ]
     },
     "metadata": {
      "needs_background": "light"
     },
     "output_type": "display_data"
    }
   ],
   "source": [
    "metrics.plot_confusion_matrix(xgbc, X_test, y_test)"
   ]
  },
  {
   "cell_type": "markdown",
   "id": "43ac7870",
   "metadata": {},
   "source": [
    "# Analyzing The Results\n",
    "\n",
    "### Naiive Bayes:\n",
    "\n",
    "The performance of this classifier is bad (F1 score is 42.1%), especially for the labels from -2.0 to 2.0 as shown in the confusion matrix, the reason for this is the nature and the simplicity of this classifier, as it's only used to have quick solutions, and it will not match the accuracy of a more complicated model.\n",
    "\n",
    "### XGBoost:\n",
    "\n",
    "The performnce of this classifier is above average (F1 score is 65.8%), but still unacceptable, most of the wrong predictions are for labels from -2.0 to 2.0 as shown in the confusion matrix, maybe the outliers are the reason for this unacceptable performance, because the XGBoost is sensitive to outliers, and it seems that the robust scaler did not help that much when it comes to outliers.\n",
    "\n",
    "### Support Vector Machine Classifier:\n",
    "\n",
    "The performance of this classifier is average (F1 score is 52.8%), but still unacceptable, most of the wrong predictions are for labels from -2.0 to 2.0 as shown in the confusion matrix,  maybe the limited scalability are the reason for this unacceptable performance.\n"
   ]
  },
  {
   "cell_type": "markdown",
   "id": "713ed97f",
   "metadata": {},
   "source": [
    "#### For more details on SVM and XGB check out the report."
   ]
  },
  {
   "cell_type": "code",
   "execution_count": null,
   "id": "c1fce433",
   "metadata": {},
   "outputs": [],
   "source": []
  }
 ],
 "metadata": {
  "kernelspec": {
   "display_name": "Python 3",
   "language": "python",
   "name": "python3"
  },
  "language_info": {
   "codemirror_mode": {
    "name": "ipython",
    "version": 3
   },
   "file_extension": ".py",
   "mimetype": "text/x-python",
   "name": "python",
   "nbconvert_exporter": "python",
   "pygments_lexer": "ipython3",
   "version": "3.8.8"
  }
 },
 "nbformat": 4,
 "nbformat_minor": 5
}
